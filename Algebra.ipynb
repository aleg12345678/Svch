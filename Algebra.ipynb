{
 "cells": [
  {
   "cell_type": "markdown",
   "metadata": {},
   "source": [
    "## Основы линейной алгебры"
   ]
  },
  {
   "cell_type": "markdown",
   "metadata": {},
   "source": []
  },
  {
   "cell_type": "code",
   "execution_count": 34,
   "metadata": {},
   "outputs": [],
   "source": [
    "import numpy as np\n",
    "import random as round\n",
    "import scipy.linalg as lp"
   ]
  },
  {
   "cell_type": "code",
   "execution_count": 35,
   "metadata": {},
   "outputs": [
    {
     "data": {
      "text/plain": [
       "[[1, 2, 3], [4, 5, 6], [7, 8, 9]]"
      ]
     },
     "execution_count": 35,
     "metadata": {},
     "output_type": "execute_result"
    }
   ],
   "source": [
    "base_list1 = [1, 2, 3, 4]\n",
    "base_list2 = [[1, 2, 3], [4, 5, 6], [7, 8, 9]]\n",
    "base_list2"
   ]
  },
  {
   "cell_type": "code",
   "execution_count": null,
   "metadata": {},
   "outputs": [],
   "source": []
  },
  {
   "cell_type": "code",
   "execution_count": 36,
   "metadata": {},
   "outputs": [
    {
     "data": {
      "text/plain": [
       "[1, 4, 9, 16]"
      ]
     },
     "execution_count": 36,
     "metadata": {},
     "output_type": "execute_result"
    }
   ],
   "source": [
    "def f1(x):\n",
    "    return x + 2\n",
    "\n",
    "\n",
    "#projection = list(map(np.sin , base_list1))\n",
    "projection = list(map(lambda x:  x*x, base_list1))\n",
    "\n",
    "#for x in projection:\n",
    "  #  print(x)\n",
    "projection"
   ]
  },
  {
   "cell_type": "code",
   "execution_count": 37,
   "metadata": {},
   "outputs": [
    {
     "data": {
      "text/plain": [
       "[[1, 2, 3], [1, 2, 3], [1, 2, 3]]"
      ]
     },
     "execution_count": 37,
     "metadata": {},
     "output_type": "execute_result"
    }
   ],
   "source": [
    "base_list3 = [42] * 5\n",
    "base_list4 = [[1, 2, 3]] * 3\n",
    "base_list4"
   ]
  },
  {
   "cell_type": "code",
   "execution_count": 38,
   "metadata": {},
   "outputs": [
    {
     "data": {
      "text/plain": [
       "[[1, 0, 3], [1, 0, 3], [1, 0, 3]]"
      ]
     },
     "execution_count": 38,
     "metadata": {},
     "output_type": "execute_result"
    }
   ],
   "source": [
    "base_list4[0][1] = 0\n",
    "base_list4"
   ]
  },
  {
   "cell_type": "code",
   "execution_count": 39,
   "metadata": {},
   "outputs": [
    {
     "data": {
      "text/plain": [
       "array([ 1.        ,  2.28571429,  3.57142857,  4.85714286,  6.14285714,\n",
       "        7.42857143,  8.71428571, 10.        ])"
      ]
     },
     "execution_count": 39,
     "metadata": {},
     "output_type": "execute_result"
    }
   ],
   "source": [
    "XX = np.array([1, 2, 3]) # два икса это вектор (большие или маленькие)\n",
    "yy = np.array(base_list2)\n",
    "zz = np.array(yy)\n",
    "aa = np.arange(1, 10, 2)\n",
    "bb = np.linspace(1, 10, 8)\n",
    "bb"
   ]
  },
  {
   "cell_type": "markdown",
   "metadata": {},
   "source": [
    "## Алгебра матриц"
   ]
  },
  {
   "cell_type": "markdown",
   "metadata": {},
   "source": [
    "## Умножение матрицы на вектор"
   ]
  },
  {
   "cell_type": "code",
   "execution_count": null,
   "metadata": {},
   "outputs": [],
   "source": []
  },
  {
   "cell_type": "code",
   "execution_count": 40,
   "metadata": {},
   "outputs": [
    {
     "data": {
      "text/plain": [
       "[14, 32, 50]"
      ]
     },
     "execution_count": 40,
     "metadata": {},
     "output_type": "execute_result"
    }
   ],
   "source": [
    "def Matrix2Vector(A, a):\n",
    "    n, m = np.shape(A)\n",
    "    # A= np.array(A)\n",
    "\n",
    "    b = [0]*n\n",
    "    for i in range(0, n): # для всех строк матрицы рассчитываем ячейки вектора реультата\n",
    "        s = 0\n",
    "        for j in range(0, m): # j это номер элемента в строке\n",
    "            s += A[i, j] * a[j]\n",
    "        b[i] = s\n",
    "    return b\n",
    "\n",
    "A = np.array(base_list2)\n",
    "b1 = Matrix2Vector(A, [1, 2, 3])\n",
    "b1\n",
    "\n"
   ]
  },
  {
   "cell_type": "markdown",
   "metadata": {},
   "source": [
    "### Транспонирование матрицы"
   ]
  },
  {
   "cell_type": "code",
   "execution_count": 41,
   "metadata": {},
   "outputs": [
    {
     "data": {
      "text/plain": [
       "array([[1, 4, 7],\n",
       "       [2, 5, 8],\n",
       "       [3, 6, 9]])"
      ]
     },
     "execution_count": 41,
     "metadata": {},
     "output_type": "execute_result"
    }
   ],
   "source": [
    "def Transpose(A):\n",
    "    n, m = np.shape(A)\n",
    "    B = []\n",
    "    for j in range(0, m): # перебираем номера столбцов матрицы А\n",
    "        b = []\n",
    "        for i in range(0, n): # перебираем каждый элмент столбца А\n",
    "            b.append(A[i, j])\n",
    "        B.append(b)\n",
    "    return np.array(B)\n",
    "\n",
    "B = Transpose(A)\n",
    "C = A.T\n",
    "D = A.transpose()\n",
    "D\n"
   ]
  },
  {
   "cell_type": "markdown",
   "metadata": {},
   "source": [
    "## Простейшие операции"
   ]
  },
  {
   "cell_type": "code",
   "execution_count": 42,
   "metadata": {},
   "outputs": [
    {
     "data": {
      "text/plain": [
       "array([[ 14,  32,  50],\n",
       "       [ 32,  77, 122],\n",
       "       [ 50, 122, 194]])"
      ]
     },
     "execution_count": 42,
     "metadata": {},
     "output_type": "execute_result"
    }
   ],
   "source": [
    "C = A * B\n",
    "D = A @ B\n",
    "D"
   ]
  },
  {
   "cell_type": "code",
   "execution_count": 43,
   "metadata": {},
   "outputs": [
    {
     "data": {
      "text/plain": [
       "(array([[ 14,  32,  50],\n",
       "        [ 32,  77, 122],\n",
       "        [ 50, 122, 194]]),\n",
       " array([[  2,  -4,   2],\n",
       "        [ 10, -20,  10],\n",
       "        [ 18, -36,  18]]))"
      ]
     },
     "execution_count": 43,
     "metadata": {},
     "output_type": "execute_result"
    }
   ],
   "source": [
    "D = np.dot(A, B)\n",
    "C = np.cross(A, B)\n",
    "D, C"
   ]
  },
  {
   "cell_type": "markdown",
   "metadata": {},
   "source": [
    "### Умножение матрицы на матрицу"
   ]
  },
  {
   "cell_type": "code",
   "execution_count": 46,
   "metadata": {},
   "outputs": [
    {
     "data": {
      "text/plain": [
       "array([[ 14,  32,  50],\n",
       "       [ 32,  77, 122],\n",
       "       [ 50, 122, 194]])"
      ]
     },
     "execution_count": 46,
     "metadata": {},
     "output_type": "execute_result"
    }
   ],
   "source": [
    "def Matrix2Vector(A, B):\n",
    "    la = np.shape(A)\n",
    "    lb = np.shape(B)\n",
    "\n",
    "    # la[1] == lb[2]\n",
    "    C = []\n",
    "    for i in range(0, lb[1]):\n",
    "        C.append([0] * la[0])\n",
    "\n",
    "    for i in range(0, la[0]):\n",
    "        for j in range(0, lb[1]):\n",
    "            s = 0\n",
    "            for k in range(0, la[1]): # k - номер ячейки строки А и номер ячейки столбца В\n",
    "                s += A[i, k] * B[k, j]\n",
    "            C[i][j] = s\n",
    "\n",
    "    return np.array(C)\n",
    "\n",
    "C = Matrix2Vector(A, A.T)\n",
    "C"
   ]
  },
  {
   "cell_type": "markdown",
   "metadata": {},
   "source": []
  },
  {
   "cell_type": "code",
   "execution_count": null,
   "metadata": {},
   "outputs": [],
   "source": [
    "def Triangle(A):\n",
    "    M = np.array(A)\n",
    "    n, m = np.shape(M)\n",
    "\n",
    "    d = 1\n",
    "    rank = min(n, m)"
   ]
  }
 ],
 "metadata": {
  "kernelspec": {
   "display_name": "Python 3",
   "language": "python",
   "name": "python3"
  },
  "language_info": {
   "codemirror_mode": {
    "name": "ipython",
    "version": 3
   },
   "file_extension": ".py",
   "mimetype": "text/x-python",
   "name": "python",
   "nbconvert_exporter": "python",
   "pygments_lexer": "ipython3",
   "version": "3.12.1"
  }
 },
 "nbformat": 4,
 "nbformat_minor": 2
}
