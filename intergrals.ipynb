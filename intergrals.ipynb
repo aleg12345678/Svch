{
 "cells": [
  {
   "cell_type": "markdown",
   "metadata": {},
   "source": [
    "# Численное интегрирование\n",
    "\n",
    "Методы:\n",
    "- метод прямоугольника\n",
    "- метод трапеции"
   ]
  },
  {
   "cell_type": "code",
   "execution_count": 162,
   "metadata": {},
   "outputs": [],
   "source": [
    "import numpy as np\n",
    "import matplotlib.pyplot as plt\n",
    "import pandas "
   ]
  },
  {
   "cell_type": "markdown",
   "metadata": {},
   "source": [
    "## Объявление переменных"
   ]
  },
  {
   "cell_type": "code",
   "execution_count": 163,
   "metadata": {},
   "outputs": [
    {
     "name": "stdout",
     "output_type": "stream",
     "text": [
      "a = 0\n"
     ]
    }
   ],
   "source": [
    "a = 0\n",
    "b = 1\n",
    "dx = 0.0001\n",
    "exp_int = 1\n",
    "print(\"a = \" + str(a))\n",
    "\n"
   ]
  },
  {
   "cell_type": "markdown",
   "metadata": {},
   "source": [
    "## Определение иинтегрируемой функции\n",
    "\n",
    "$$f(x) = 3 \\cdot x^2$$"
   ]
  },
  {
   "cell_type": "code",
   "execution_count": 164,
   "metadata": {},
   "outputs": [],
   "source": [
    "def F(x):\n",
    "    return 3 * x ** 2"
   ]
  },
  {
   "cell_type": "code",
   "execution_count": 165,
   "metadata": {},
   "outputs": [
    {
     "data": {
      "text/plain": [
       "[<matplotlib.lines.Line2D at 0x21b66199490>]"
      ]
     },
     "execution_count": 165,
     "metadata": {},
     "output_type": "execute_result"
    },
    {
     "data": {
      "image/png": "[encoded data removed]",
      "text/plain": [
       "<Figure size 640x480 with 1 Axes>"
      ]
     },
     "metadata": {},
     "output_type": "display_data"
    }
   ],
   "source": [
    "XX = np.arange(a, b + dx, dx)\n",
    "\n",
    "YY = F(XX)\n",
    "plt.plot(XX, YY)\n"
   ]
  },
  {
   "cell_type": "markdown",
   "metadata": {},
   "source": [
    "# Метод прямоугольников"
   ]
  },
  {
   "cell_type": "code",
   "execution_count": 166,
   "metadata": {},
   "outputs": [],
   "source": [
    "def IntegralRect(a, b, dx, f):\n",
    "    S = 0\n",
    "\n",
    "    n = 0\n",
    "    while a < b -dx:\n",
    "        S += f(a)\n",
    "        a += dx\n",
    "        n += 1\n",
    "        #print(f\"x: {a}; S: {S}\")\n",
    "\n",
    "    return S * dx, n\n",
    "        \n"
   ]
  },
  {
   "cell_type": "code",
   "execution_count": 167,
   "metadata": {},
   "outputs": [
    {
     "data": {
      "text/plain": [
       "(0.9998500049998275, 10000)"
      ]
     },
     "execution_count": 167,
     "metadata": {},
     "output_type": "execute_result"
    }
   ],
   "source": [
    "i_rect, n_rect = IntegralRect(a, b, dx, F)\n",
    "i_rect, n_rect"
   ]
  },
  {
   "cell_type": "code",
   "execution_count": 168,
   "metadata": {},
   "outputs": [
    {
     "name": "stdout",
     "output_type": "stream",
     "text": [
      "Integral of F(x) = 0.9998500049998275\n",
      "           error = 0.00014999500017254253\n"
     ]
    }
   ],
   "source": [
    "err_rect = abs(1-i_rect)\n",
    "\n",
    "print(f\"Integral of F(x) = {i_rect}\")\n",
    "print(f\"           error = {err_rect}\")"
   ]
  },
  {
   "cell_type": "markdown",
   "metadata": {},
   "source": [
    "# Метод трапеций"
   ]
  },
  {
   "cell_type": "code",
   "execution_count": 169,
   "metadata": {},
   "outputs": [],
   "source": [
    "def IntegralTrop(a, b, dx, f):\n",
    "    S = 0\n",
    "\n",
    "    n = 0\n",
    "    y1 = f(a)\n",
    "    x= a + dx\n",
    "\n",
    "    while x < b:\n",
    "        \n",
    "        y2 = f(x)\n",
    "\n",
    "        S += y1 + y2\n",
    "        x += dx\n",
    "        n += 1\n",
    "        y1 = y2\n",
    "        \n",
    "    return S / 2 * dx, n"
   ]
  },
  {
   "cell_type": "code",
   "execution_count": 170,
   "metadata": {},
   "outputs": [
    {
     "data": {
      "text/plain": [
       "(1.00000000499983, 10000)"
      ]
     },
     "execution_count": 170,
     "metadata": {},
     "output_type": "execute_result"
    }
   ],
   "source": [
    "i_trop, n_trop = IntegralTrop(a, b, dx, F)\n",
    "i_trop, n_trop"
   ]
  },
  {
   "cell_type": "code",
   "execution_count": 171,
   "metadata": {},
   "outputs": [
    {
     "name": "stdout",
     "output_type": "stream",
     "text": [
      "Integral of F(x) = 1.00000000499983\n",
      "           error = 4.9998301054898775e-09\n",
      "           error = 10000\n"
     ]
    }
   ],
   "source": [
    "err_trop = abs(1-i_trop)\n",
    "\n",
    "print(f\"Integral of F(x) = {i_trop}\")\n",
    "print(f\"           error = {err_trop}\")\n",
    "#print(f\"           error = {n_trop}\")"
   ]
  },
  {
   "cell_type": "code",
   "execution_count": 182,
   "metadata": {},
   "outputs": [
    {
     "data": {
      "text/plain": [
       "(-6.6339356967828894e-15, 10000)"
      ]
     },
     "execution_count": 182,
     "metadata": {},
     "output_type": "execute_result"
    }
   ],
   "source": [
    "test = IntegralTrop(0, 1, dx, lambda x: np.sin(2 * np.pi * x))\n",
    "test"
   ]
  },
  {
   "cell_type": "code",
   "execution_count": 187,
   "metadata": {},
   "outputs": [
    {
     "data": {
      "text/plain": [
       "((1.00000000499983, 10000), 10001)"
      ]
     },
     "execution_count": 187,
     "metadata": {},
     "output_type": "execute_result"
    }
   ],
   "source": [
    "n1 = 0\n",
    "\n",
    "def IneratiionsTest(f):\n",
    "    global n1\n",
    "    n1 = 0\n",
    "    def Test(x):\n",
    "        global n1\n",
    "        n1 += 1\n",
    "        return f(x)\n",
    "        \n",
    "    return Test\n",
    "\n",
    "test = IntegralTrop(0, 1, dx, IneratiionsTest(F))\n",
    "test, n1\n",
    "        "
   ]
  }
 ],
 "metadata": {
  "kernelspec": {
   "display_name": "Python 3",
   "language": "python",
   "name": "python3"
  },
  "language_info": {
   "codemirror_mode": {
    "name": "ipython",
    "version": 3
   },
   "file_extension": ".py",
   "mimetype": "text/x-python",
   "name": "python",
   "nbconvert_exporter": "python",
   "pygments_lexer": "ipython3",
   "version": "3.12.1"
  }
 },
 "nbformat": 4,
 "nbformat_minor": 2
}
